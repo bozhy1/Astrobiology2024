{
 "cells": [
  {
   "cell_type": "markdown",
   "id": "2c4ae152-50ea-4a80-99ee-797428aa4c4e",
   "metadata": {},
   "source": [
    "Firstly try to import lifesim and set some parameters"
   ]
  },
  {
   "cell_type": "code",
   "execution_count": 2,
   "id": "fdad23b2-a3aa-4612-bf20-3863b6e7235a",
   "metadata": {},
   "outputs": [],
   "source": [
    "import lifesim\n",
    "import requests\n",
    "bus = lifesim.Bus()\n",
    "bus.data.options.set_scenario('baseline')\n",
    "bus.data.options.set_manual(diameter=4.)\n",
    "bus.data.options.set_manual(output_path='D:\\\\MASS\\\\sem2\\\\computational_astrobiology\\\\')\n",
    "bus.data.options.set_manual(output_filename='run_name')"
   ]
  },
  {
   "cell_type": "code",
   "execution_count": 4,
   "id": "5e525f34-c3be-4aa8-a6f2-be9e72fd3410",
   "metadata": {},
   "outputs": [],
   "source": [
    "data = requests.get('https://raw.githubusercontent.com/kammerje/P-pop/main/TestPlanetPopulation.txt')\n",
    "\n",
    "with open('D:\\MASS\\sem2\\computational_astrobiology\\cat_example.txt', 'wb') as file:\n",
    "   file.write(data.content)"
   ]
  },
  {
   "cell_type": "code",
   "execution_count": 5,
   "id": "77354ed5-0e25-4e26-ba72-e1cb148ac4bb",
   "metadata": {},
   "outputs": [
    {
     "name": "stdout",
     "output_type": "stream",
     "text": [
      "Processed line 45884 of 45884\n"
     ]
    }
   ],
   "source": [
    "bus.data.catalog_from_ppop(input_path='D:\\MASS\\sem2\\computational_astrobiology\\cat_example.txt', overwrite = True)\n",
    "bus.data.catalog_remove_distance(stype='A', mode='larger', dist=0.)  # remove all A stars\n",
    "bus.data.catalog_remove_distance(stype='M', mode='larger', dist=10.)  # remove M stars > 10pc to"
   ]
  },
  {
   "cell_type": "code",
   "execution_count": 6,
   "id": "491d908a-c7e9-45d9-941d-79feebca8635",
   "metadata": {},
   "outputs": [],
   "source": [
    "instrument = lifesim.Instrument(name='inst')\n",
    "bus.add_module(instrument)\n",
    "\n",
    "transm = lifesim.TransmissionMap(name='transm')\n",
    "bus.add_module(transm)\n",
    "\n",
    "exo = lifesim.PhotonNoiseExozodi(name='exo')\n",
    "bus.add_module(exo)\n",
    "local = lifesim.PhotonNoiseLocalzodi(name='local')\n",
    "bus.add_module(local)\n",
    "star = lifesim.PhotonNoiseStar(name='star')\n",
    "bus.add_module(star)"
   ]
  },
  {
   "cell_type": "code",
   "execution_count": 7,
   "id": "6b898d06-0e4b-4c60-bfc7-da7a236dcdf7",
   "metadata": {},
   "outputs": [],
   "source": [
    "bus.connect(('inst', 'transm'))\n",
    "bus.connect(('inst', 'exo'))\n",
    "bus.connect(('inst', 'local'))\n",
    "bus.connect(('inst', 'star'))\n",
    "\n",
    "bus.connect(('star', 'transm'))"
   ]
  },
  {
   "cell_type": "code",
   "execution_count": 8,
   "id": "db5282d7-4fce-4ccd-abd7-7041a850b2ce",
   "metadata": {},
   "outputs": [],
   "source": [
    "opt = lifesim.Optimizer(name='opt')\n",
    "bus.add_module(opt)\n",
    "ahgs = lifesim.AhgsModule(name='ahgs')\n",
    "bus.add_module(ahgs)\n",
    "\n",
    "bus.connect(('transm', 'opt'))\n",
    "bus.connect(('inst', 'opt'))\n",
    "bus.connect(('opt', 'ahgs'))"
   ]
  },
  {
   "cell_type": "code",
   "execution_count": 9,
   "id": "e3bf48f6-1930-4004-9070-af4a257f0ae1",
   "metadata": {},
   "outputs": [
    {
     "name": "stderr",
     "output_type": "stream",
     "text": [
      "100%|████████████████████████████████████████████████████████████████████████████████| 535/535 [03:24<00:00,  2.62it/s]\n"
     ]
    },
    {
     "name": "stdout",
     "output_type": "stream",
     "text": [
      "Number of planets detected by stellar type:\n",
      "A: 0.0  F: 1.7  G: 5.8  K: 35.4  M: 38.3  -  (2.0 / 2.0) yrs observed\n"
     ]
    }
   ],
   "source": [
    "instrument.get_snr()\n",
    "\n",
    "opt.ahgs()"
   ]
  },
  {
   "cell_type": "code",
   "execution_count": 10,
   "id": "9c8cd3a1-5f3f-44bc-9fff-773986ffc473",
   "metadata": {},
   "outputs": [
    {
     "name": "stdout",
     "output_type": "stream",
     "text": [
      "Saving database and config files...\n",
      "Catalog saved\n",
      "[Done]\n"
     ]
    }
   ],
   "source": [
    "bus.save()"
   ]
  },
  {
   "cell_type": "code",
   "execution_count": 19,
   "id": "fd720f90-ac8c-488f-972e-a14aba07613b",
   "metadata": {},
   "outputs": [],
   "source": [
    "bus_read = lifesim.Bus()\n",
    "bus_read.build_from_config('D:\\\\MASS\\\\sem2\\\\computational_astrobiology\\\\Tutorial1\\\\run_name.yaml')\n",
    "bus_read.data.import_catalog(input_path='D:\\\\MASS\\\\sem2\\\\computational_astrobiology\\\\Tutorial1\\\\run_name_catalog.hdf5')"
   ]
  },
  {
   "cell_type": "code",
   "execution_count": 21,
   "id": "fa051941-f131-4d5e-bc02-b0518c1dd149",
   "metadata": {},
   "outputs": [
    {
     "name": "stdout",
     "output_type": "stream",
     "text": [
      "       radius_p      p_orb   mass_p  ecc_p    inc_p  large_omega_p  \\\n",
      "0       2.55899    1.21237  6.46922    0.0  0.36825        0.83082   \n",
      "1       1.62557   95.32925  2.94136    0.0  0.36825        4.71701   \n",
      "2       0.64641  413.44526  0.18259    0.0  0.36825        3.59078   \n",
      "3       1.45874   51.20469  5.36760    0.0  2.01016        2.62388   \n",
      "4       2.03712   98.57858  4.45356    0.0  2.01016        1.71757   \n",
      "...         ...        ...      ...    ...      ...            ...   \n",
      "13999   0.82089   48.64809  3.00300    0.0  1.36699        3.29171   \n",
      "14000   0.76631    3.78368  0.47407    0.0  2.15206        1.81751   \n",
      "14001   1.29841   30.83798  1.36537    0.0  2.15206        5.07573   \n",
      "14002   1.31487  184.70674  1.57873    0.0  2.15206        4.52980   \n",
      "14003   0.58477  435.93984  0.21112    0.0  2.15206        5.56653   \n",
      "\n",
      "       small_omega_p  theta_p  albedo_bond  albedo_geom_vis  ...     hz_in  \\\n",
      "0            4.28658  0.46104      0.07323          0.11134  ...  0.745910   \n",
      "1            0.58424  3.76621      0.17084          0.46161  ...  0.745910   \n",
      "2            0.90651  0.27668      0.54602          0.17279  ...  0.745910   \n",
      "3            0.47298  2.25944      0.53153          0.47091  ...  0.745910   \n",
      "4            2.04617  2.98199      0.32327          0.59087  ...  0.745910   \n",
      "...              ...      ...          ...              ...  ...       ...   \n",
      "13999        5.84907  1.15447      0.47915          0.40514  ...  0.057153   \n",
      "14000        2.27749  6.06507      0.36787          0.07721  ...  0.057153   \n",
      "14001        5.95634  4.86269      0.54785          0.21281  ...  0.057153   \n",
      "14002        5.85123  2.65320      0.54567          0.19618  ...  0.057153   \n",
      "14003        1.75524  2.02167      0.23991          0.48055  ...  0.057153   \n",
      "\n",
      "         hz_out  hz_center  habitable    snr_1h   baseline  detected  \\\n",
      "0      1.746354   1.246132      False  3.747645   21.85221      True   \n",
      "1      1.746354   1.246132      False  2.570891   21.85221      True   \n",
      "2      1.746354   1.246132       True  0.051327   21.85221     False   \n",
      "3      1.746354   1.246132      False  8.482665   21.85221      True   \n",
      "4      1.746354   1.246132      False  7.213424   21.85221      True   \n",
      "...         ...        ...        ...       ...        ...       ...   \n",
      "13999  0.151491   0.104322       True  0.286335  100.00000     False   \n",
      "14000  0.151491   0.104322      False  1.669327  100.00000     False   \n",
      "14001  0.151491   0.104322       True  0.552908  100.00000     False   \n",
      "14002  0.151491   0.104322      False  0.024031  100.00000     False   \n",
      "14003  0.151491   0.104322      False  0.001203  100.00000     False   \n",
      "\n",
      "       snr_current      int_time   t_slew  \n",
      "0        11.808785  35743.408285      0.0  \n",
      "1         8.100845  35743.408285      0.0  \n",
      "2         0.161731  35743.408285      0.0  \n",
      "3        26.728775  35743.408285      0.0  \n",
      "4        22.729412  35743.408285      0.0  \n",
      "...            ...           ...      ...  \n",
      "13999     0.000000      0.000000 -36000.0  \n",
      "14000     0.000000      0.000000 -36000.0  \n",
      "14001     0.000000      0.000000 -36000.0  \n",
      "14002     0.000000      0.000000 -36000.0  \n",
      "14003     0.000000      0.000000 -36000.0  \n",
      "\n",
      "[14004 rows x 45 columns]\n"
     ]
    }
   ],
   "source": [
    "print(bus.data.catalog)"
   ]
  },
  {
   "cell_type": "code",
   "execution_count": null,
   "id": "54606259-ea25-4162-8f0b-a10e51ce5545",
   "metadata": {},
   "outputs": [],
   "source": []
  }
 ],
 "metadata": {
  "kernelspec": {
   "display_name": "Python 3 (ipykernel)",
   "language": "python",
   "name": "python3"
  },
  "language_info": {
   "codemirror_mode": {
    "name": "ipython",
    "version": 3
   },
   "file_extension": ".py",
   "mimetype": "text/x-python",
   "name": "python",
   "nbconvert_exporter": "python",
   "pygments_lexer": "ipython3",
   "version": "3.8.19"
  }
 },
 "nbformat": 4,
 "nbformat_minor": 5
}
