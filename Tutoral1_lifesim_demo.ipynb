{
 "cells": [
  {
   "cell_type": "markdown",
   "id": "2c4ae152-50ea-4a80-99ee-797428aa4c4e",
   "metadata": {},
   "source": [
    "Firstly try to import lifesim and set some parameters"
   ]
  },
  {
   "cell_type": "code",
   "execution_count": 2,
   "id": "fdad23b2-a3aa-4612-bf20-3863b6e7235a",
   "metadata": {},
   "outputs": [],
   "source": [
    "import lifesim\n",
    "import requests\n",
    "bus = lifesim.Bus()\n",
    "bus.data.options.set_scenario('baseline')\n",
    "bus.data.options.set_manual(diameter=4.)\n",
    "bus.data.options.set_manual(output_path='D:\\\\MASS\\\\sem2\\\\computational_astrobiology\\\\')\n",
    "bus.data.options.set_manual(output_filename='run_name')"
   ]
  },
  {
   "cell_type": "code",
   "execution_count": 3,
   "id": "5e525f34-c3be-4aa8-a6f2-be9e72fd3410",
   "metadata": {},
   "outputs": [],
   "source": [
    "data = requests.get('https://raw.githubusercontent.com/kammerje/P-pop/main/TestPlanetPopulation.txt')\n",
    "\n",
    "with open('D:\\MASS\\sem2\\computational_astrobiology\\cat_example.txt', 'wb') as file:\n",
    "   file.write(data.content)"
   ]
  },
  {
   "cell_type": "code",
   "execution_count": 4,
   "id": "77354ed5-0e25-4e26-ba72-e1cb148ac4bb",
   "metadata": {},
   "outputs": [
    {
     "name": "stdout",
     "output_type": "stream",
     "text": [
      "Processed line 45884 of 45884\n"
     ]
    }
   ],
   "source": [
    "bus.data.catalog_from_ppop(input_path='D:\\MASS\\sem2\\computational_astrobiology\\cat_example.txt', overwrite = True)\n",
    "bus.data.catalog_remove_distance(stype='A', mode='larger', dist=0.)  # remove all A stars\n",
    "bus.data.catalog_remove_distance(stype='M', mode='larger', dist=10.)  # remove M stars > 10pc to"
   ]
  },
  {
   "cell_type": "code",
   "execution_count": 5,
   "id": "491d908a-c7e9-45d9-941d-79feebca8635",
   "metadata": {},
   "outputs": [],
   "source": [
    "instrument = lifesim.Instrument(name='inst')\n",
    "bus.add_module(instrument)\n",
    "\n",
    "transm = lifesim.TransmissionMap(name='transm')\n",
    "bus.add_module(transm)\n",
    "\n",
    "exo = lifesim.PhotonNoiseExozodi(name='exo')\n",
    "bus.add_module(exo)\n",
    "local = lifesim.PhotonNoiseLocalzodi(name='local')\n",
    "bus.add_module(local)\n",
    "star = lifesim.PhotonNoiseStar(name='star')\n",
    "bus.add_module(star)"
   ]
  },
  {
   "cell_type": "code",
   "execution_count": 6,
   "id": "6b898d06-0e4b-4c60-bfc7-da7a236dcdf7",
   "metadata": {},
   "outputs": [],
   "source": [
    "bus.connect(('inst', 'transm'))\n",
    "bus.connect(('inst', 'exo'))\n",
    "bus.connect(('inst', 'local'))\n",
    "bus.connect(('inst', 'star'))\n",
    "\n",
    "bus.connect(('star', 'transm'))"
   ]
  },
  {
   "cell_type": "code",
   "execution_count": 7,
   "id": "db5282d7-4fce-4ccd-abd7-7041a850b2ce",
   "metadata": {},
   "outputs": [],
   "source": [
    "opt = lifesim.Optimizer(name='opt')\n",
    "bus.add_module(opt)\n",
    "ahgs = lifesim.AhgsModule(name='ahgs')\n",
    "bus.add_module(ahgs)\n",
    "\n",
    "bus.connect(('transm', 'opt'))\n",
    "bus.connect(('inst', 'opt'))\n",
    "bus.connect(('opt', 'ahgs'))"
   ]
  },
  {
   "cell_type": "code",
   "execution_count": 8,
   "id": "e3bf48f6-1930-4004-9070-af4a257f0ae1",
   "metadata": {},
   "outputs": [
    {
     "name": "stderr",
     "output_type": "stream",
     "text": [
      "100%|████████████████████████████████████████████████████████████████████████████████| 535/535 [06:45<00:00,  1.32it/s]\n"
     ]
    },
    {
     "name": "stdout",
     "output_type": "stream",
     "text": [
      "Number of planets detected by stellar type:\n",
      "A: 0.0  F: 1.7  G: 5.8  K: 35.4  M: 38.3  -  (2.0 / 2.0) yrs observed\n"
     ]
    }
   ],
   "source": [
    "instrument.get_snr()\n",
    "\n",
    "opt.ahgs()"
   ]
  },
  {
   "cell_type": "code",
   "execution_count": 11,
   "id": "9c8cd3a1-5f3f-44bc-9fff-773986ffc473",
   "metadata": {},
   "outputs": [
    {
     "name": "stdout",
     "output_type": "stream",
     "text": [
      "Saving database and config files...\n"
     ]
    },
    {
     "ename": "FileNotFoundError",
     "evalue": "[Errno 2] No such file or directory: 'path/run_name.yaml'",
     "output_type": "error",
     "traceback": [
      "\u001b[1;31m---------------------------------------------------------------------------\u001b[0m",
      "\u001b[1;31mFileNotFoundError\u001b[0m                         Traceback (most recent call last)",
      "Cell \u001b[1;32mIn[11], line 1\u001b[0m\n\u001b[1;32m----> 1\u001b[0m \u001b[43mbus\u001b[49m\u001b[38;5;241;43m.\u001b[39;49m\u001b[43msave\u001b[49m\u001b[43m(\u001b[49m\u001b[43m)\u001b[49m\n",
      "File \u001b[1;32mC:\\ProgramData\\Anaconda3\\envs\\lifesim\\lib\\site-packages\\lifesim\\core\\core.py:489\u001b[0m, in \u001b[0;36mBus.save\u001b[1;34m(self)\u001b[0m\n\u001b[0;32m    487\u001b[0m \u001b[38;5;28;01mdef\u001b[39;00m \u001b[38;5;21msave\u001b[39m(\u001b[38;5;28mself\u001b[39m):\n\u001b[0;32m    488\u001b[0m     \u001b[38;5;28mprint\u001b[39m(\u001b[38;5;124m'\u001b[39m\u001b[38;5;124mSaving database and config files...\u001b[39m\u001b[38;5;124m'\u001b[39m)\n\u001b[1;32m--> 489\u001b[0m     \u001b[38;5;28;43mself\u001b[39;49m\u001b[38;5;241;43m.\u001b[39;49m\u001b[43mwrite_config\u001b[49m\u001b[43m(\u001b[49m\u001b[43m)\u001b[49m\n\u001b[0;32m    490\u001b[0m     \u001b[38;5;28;01mif\u001b[39;00m \u001b[38;5;28mself\u001b[39m\u001b[38;5;241m.\u001b[39mdata\u001b[38;5;241m.\u001b[39mcatalog \u001b[38;5;129;01mis\u001b[39;00m \u001b[38;5;129;01mnot\u001b[39;00m \u001b[38;5;28;01mNone\u001b[39;00m:\n\u001b[0;32m    491\u001b[0m         \u001b[38;5;28mself\u001b[39m\u001b[38;5;241m.\u001b[39mdata\u001b[38;5;241m.\u001b[39mexport_catalog()\n",
      "File \u001b[1;32mC:\\ProgramData\\Anaconda3\\envs\\lifesim\\lib\\site-packages\\lifesim\\core\\core.py:471\u001b[0m, in \u001b[0;36mBus.write_config\u001b[1;34m(self)\u001b[0m\n\u001b[0;32m    461\u001b[0m version_dict[\u001b[38;5;124m'\u001b[39m\u001b[38;5;124mversion\u001b[39m\u001b[38;5;124m'\u001b[39m] \u001b[38;5;241m=\u001b[39m __version__\n\u001b[0;32m    463\u001b[0m config_dict \u001b[38;5;241m=\u001b[39m {\u001b[38;5;124m'\u001b[39m\u001b[38;5;124marray\u001b[39m\u001b[38;5;124m'\u001b[39m: convert_to_list(\u001b[38;5;28mself\u001b[39m\u001b[38;5;241m.\u001b[39mdata\u001b[38;5;241m.\u001b[39moptions\u001b[38;5;241m.\u001b[39marray),\n\u001b[0;32m    464\u001b[0m                \u001b[38;5;124m'\u001b[39m\u001b[38;5;124mmodels\u001b[39m\u001b[38;5;124m'\u001b[39m: convert_to_list(\u001b[38;5;28mself\u001b[39m\u001b[38;5;241m.\u001b[39mdata\u001b[38;5;241m.\u001b[39moptions\u001b[38;5;241m.\u001b[39mmodels),\n\u001b[0;32m    465\u001b[0m                \u001b[38;5;124m'\u001b[39m\u001b[38;5;124moptimization\u001b[39m\u001b[38;5;124m'\u001b[39m: convert_to_list(\u001b[38;5;28mself\u001b[39m\u001b[38;5;241m.\u001b[39mdata\u001b[38;5;241m.\u001b[39moptions\u001b[38;5;241m.\u001b[39moptimization),\n\u001b[1;32m   (...)\u001b[0m\n\u001b[0;32m    468\u001b[0m                \u001b[38;5;124m'\u001b[39m\u001b[38;5;124mconnections\u001b[39m\u001b[38;5;124m'\u001b[39m: convert_to_list(\u001b[38;5;28mself\u001b[39m\u001b[38;5;241m.\u001b[39mconnections),\n\u001b[0;32m    469\u001b[0m                \u001b[38;5;124m'\u001b[39m\u001b[38;5;124mversion\u001b[39m\u001b[38;5;124m'\u001b[39m: version_dict}\n\u001b[1;32m--> 471\u001b[0m \u001b[38;5;28;01mwith\u001b[39;00m \u001b[38;5;28;43mopen\u001b[39;49m\u001b[43m(\u001b[49m\u001b[38;5;28;43mself\u001b[39;49m\u001b[38;5;241;43m.\u001b[39;49m\u001b[43mdata\u001b[49m\u001b[38;5;241;43m.\u001b[39;49m\u001b[43moptions\u001b[49m\u001b[38;5;241;43m.\u001b[39;49m\u001b[43mother\u001b[49m\u001b[43m[\u001b[49m\u001b[38;5;124;43m'\u001b[39;49m\u001b[38;5;124;43moutput_path\u001b[39;49m\u001b[38;5;124;43m'\u001b[39;49m\u001b[43m]\u001b[49m\n\u001b[0;32m    472\u001b[0m \u001b[43m          \u001b[49m\u001b[38;5;241;43m+\u001b[39;49m\u001b[43m \u001b[49m\u001b[38;5;28;43mself\u001b[39;49m\u001b[38;5;241;43m.\u001b[39;49m\u001b[43mdata\u001b[49m\u001b[38;5;241;43m.\u001b[39;49m\u001b[43moptions\u001b[49m\u001b[38;5;241;43m.\u001b[39;49m\u001b[43mother\u001b[49m\u001b[43m[\u001b[49m\u001b[38;5;124;43m'\u001b[39;49m\u001b[38;5;124;43moutput_filename\u001b[39;49m\u001b[38;5;124;43m'\u001b[39;49m\u001b[43m]\u001b[49m\u001b[43m \u001b[49m\u001b[38;5;241;43m+\u001b[39;49m\u001b[43m \u001b[49m\u001b[38;5;124;43m'\u001b[39;49m\u001b[38;5;124;43m.yaml\u001b[39;49m\u001b[38;5;124;43m'\u001b[39;49m\u001b[43m,\u001b[49m\u001b[43m \u001b[49m\u001b[38;5;124;43m'\u001b[39;49m\u001b[38;5;124;43mw\u001b[39;49m\u001b[38;5;124;43m'\u001b[39;49m\u001b[43m)\u001b[49m \u001b[38;5;28;01mas\u001b[39;00m file:\n\u001b[0;32m    473\u001b[0m     documents \u001b[38;5;241m=\u001b[39m yaml\u001b[38;5;241m.\u001b[39mdump(config_dict, file)\n",
      "\u001b[1;31mFileNotFoundError\u001b[0m: [Errno 2] No such file or directory: 'path/run_name.yaml'"
     ]
    }
   ],
   "source": [
    "bus.save()"
   ]
  },
  {
   "cell_type": "code",
   "execution_count": null,
   "id": "727f27a1-d950-4ef8-8f37-0d5dad033ec2",
   "metadata": {},
   "outputs": [],
   "source": []
  }
 ],
 "metadata": {
  "kernelspec": {
   "display_name": "Python 3 (ipykernel)",
   "language": "python",
   "name": "python3"
  },
  "language_info": {
   "codemirror_mode": {
    "name": "ipython",
    "version": 3
   },
   "file_extension": ".py",
   "mimetype": "text/x-python",
   "name": "python",
   "nbconvert_exporter": "python",
   "pygments_lexer": "ipython3",
   "version": "3.8.19"
  }
 },
 "nbformat": 4,
 "nbformat_minor": 5
}
