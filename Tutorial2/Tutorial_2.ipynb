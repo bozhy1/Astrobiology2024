{
 "cells": [
  {
   "cell_type": "code",
   "execution_count": 6,
   "id": "5a5356a4",
   "metadata": {},
   "outputs": [],
   "source": [
    "%matplotlib inline\n",
    "import numpy as np\n",
    "from sklearn.naive_bayes import GaussianNB\n",
    "import matplotlib.pyplot as plt\n",
    "import pandas as pd\n",
    "import seaborn as sns\n",
    "plt.style.use('seaborn-whitegrid')"
   ]
  },
  {
   "cell_type": "code",
   "execution_count": 7,
   "id": "9d80de36",
   "metadata": {},
   "outputs": [],
   "source": [
    "data = pd.read_csv('sim_catalog')\n",
    "data_train = data[:10000].drop(columns = ['stype','name_s'])\n",
    "data_test = data[10000:].drop(columns = ['stype','name_s'])\n",
    "data_train[\"habitable\"] = data_train[\"habitable\"].astype(int)\n",
    "data_test[\"habitable\"] = data_test[\"habitable\"].astype(int)\n",
    "\n",
    "#data_hab = data_train[data_train['habitable'] == True].drop(columns = ['habitable', 'detected'])\n",
    "#data_nothab = data_train[data_train['habitable'] == False].drop(columns = ['habitable', 'detected'])"
   ]
  },
  {
   "cell_type": "code",
   "execution_count": 8,
   "id": "66f2981d",
   "metadata": {},
   "outputs": [
    {
     "name": "stdout",
     "output_type": "stream",
     "text": [
      "       habitable_pred  habitable\n",
      "10000               0          0\n",
      "10001               0          0\n",
      "10002               1          0\n",
      "10003               0          0\n",
      "10004               0          0\n",
      "...               ...        ...\n",
      "13999               1          1\n",
      "14000               1          0\n",
      "14001               1          1\n",
      "14002               1          0\n",
      "14003               1          0\n",
      "\n",
      "[4004 rows x 2 columns]\n"
     ]
    }
   ],
   "source": [
    "model = GaussianNB()\n",
    "model.fit(data_train.drop(columns = ['habitable']), data_train['habitable']);\n",
    "\n",
    "data_pred = model.predict(data_test.drop(columns = ['habitable']))\n",
    "\n",
    "results = data_test.copy().filter(['habitable'], axis=1)\n",
    "results.insert(0, \"habitable_pred\", data_pred)\n",
    "print(results)\n",
    "\n",
    "\n",
    "#sns.heatmap(data_pred, data_test['habitable'], square=True, annot=True, fmt='d', cbar=False,\n",
    " #           cmap='Blues')\n",
    "#plt.scatter(data_pred, data_test['habitable'])"
   ]
  },
  {
   "cell_type": "code",
   "execution_count": 9,
   "id": "ed5410e1",
   "metadata": {},
   "outputs": [
    {
     "data": {
      "text/plain": [
       "<AxesSubplot:xlabel='habitable_pred', ylabel='habitable'>"
      ]
     },
     "execution_count": 9,
     "metadata": {},
     "output_type": "execute_result"
    },
    {
     "data": {
      "image/png": "[encoded data removed]",
      "text/plain": [
       "<Figure size 432x288 with 1 Axes>"
      ]
     },
     "metadata": {},
     "output_type": "display_data"
    }
   ],
   "source": [
    "confusion_matrix = pd.crosstab(results['habitable'], results['habitable_pred'])\n",
    "sns.heatmap(confusion_matrix, square=True, annot=True, fmt='d', cbar=False,\n",
    "            xticklabels=confusion_matrix.columns.values, yticklabels=confusion_matrix.columns.values,\n",
    "            cmap='Blues')"
   ]
  },
  {
   "cell_type": "markdown",
   "id": "ec516ff9",
   "metadata": {},
   "source": [
    "In this case, almost all of the data from LIFESim is used to predict the habitability of a planet. As we can see, the results are not very promising. The only data that was excluded from the fitting was the non-number data, namely the star type and the star name. I believe the confusion happens because a lot of the dimensions of the data are not really physically relevant for the planets habitability. Maybe with a more rigourus selection of data columns this result can be improved. Let's try:"
   ]
  },
  {
   "cell_type": "code",
   "execution_count": 10,
   "id": "ef2c3fd4",
   "metadata": {},
   "outputs": [],
   "source": [
    "data_train_new = data[:10000].filter(['radius_p', 'semimajor_p', 'temp_p', 'habitable'], axis = 1)\n",
    "data_test_new = data[10000:].filter(['radius_p','semimajor_p', 'temp_p', 'habitable'], axis = 1)\n",
    "data_train_new[\"habitable\"] = data_train_new[\"habitable\"].astype(int)\n",
    "data_test_new[\"habitable\"] = data_test_new[\"habitable\"].astype(int)"
   ]
  },
  {
   "cell_type": "code",
   "execution_count": 11,
   "id": "2a0df269",
   "metadata": {},
   "outputs": [
    {
     "name": "stdout",
     "output_type": "stream",
     "text": [
      "       habitable_pred  habitable\n",
      "10000               0          0\n",
      "10001               0          0\n",
      "10002               0          0\n",
      "10003               0          0\n",
      "10004               0          0\n",
      "...               ...        ...\n",
      "13999               1          1\n",
      "14000               0          0\n",
      "14001               1          1\n",
      "14002               0          0\n",
      "14003               0          0\n",
      "\n",
      "[4004 rows x 2 columns]\n"
     ]
    }
   ],
   "source": [
    "model = GaussianNB()\n",
    "model.fit(data_train_new.drop(columns = ['habitable']), data_train_new['habitable']);\n",
    "\n",
    "data_pred_new = model.predict(data_test_new.drop(columns = ['habitable']))\n",
    "\n",
    "results_new = data_test_new.copy().filter(['habitable'], axis=1)\n",
    "results_new.insert(0, \"habitable_pred\", data_pred_new)\n",
    "print(results_new)"
   ]
  },
  {
   "cell_type": "code",
   "execution_count": 12,
   "id": "e8a5a94f",
   "metadata": {},
   "outputs": [
    {
     "data": {
      "text/plain": [
       "<AxesSubplot:xlabel='habitable_pred', ylabel='habitable'>"
      ]
     },
     "execution_count": 12,
     "metadata": {},
     "output_type": "execute_result"
    },
    {
     "data": {
      "image/png": "[encoded data removed]",
      "text/plain": [
       "<Figure size 432x288 with 1 Axes>"
      ]
     },
     "metadata": {},
     "output_type": "display_data"
    }
   ],
   "source": [
    "confusion_matrix = pd.crosstab(results_new['habitable'], results_new['habitable_pred'])\n",
    "sns.heatmap(confusion_matrix, square=True, annot=True, fmt='d', cbar=False,\n",
    "            xticklabels=confusion_matrix.columns.values, yticklabels=confusion_matrix.columns.values,\n",
    "            cmap='Blues')"
   ]
  },
  {
   "cell_type": "markdown",
   "id": "ecbd4543",
   "metadata": {},
   "source": [
    "Of course, this selection where the parameters were carefully chosen by physical relevance and some trial and error produses much better results. "
   ]
  },
  {
   "cell_type": "code",
   "execution_count": null,
   "id": "e4c49362",
   "metadata": {},
   "outputs": [],
   "source": []
  }
 ],
 "metadata": {
  "kernelspec": {
   "display_name": "Python 3 (ipykernel)",
   "language": "python",
   "name": "python3"
  },
  "language_info": {
   "codemirror_mode": {
    "name": "ipython",
    "version": 3
   },
   "file_extension": ".py",
   "mimetype": "text/x-python",
   "name": "python",
   "nbconvert_exporter": "python",
   "pygments_lexer": "ipython3",
   "version": "3.8.19"
  }
 },
 "nbformat": 4,
 "nbformat_minor": 5
}
